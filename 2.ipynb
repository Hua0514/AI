{
  "nbformat": 4,
  "nbformat_minor": 0,
  "metadata": {
    "colab": {
      "name": "Untitled3.ipynb",
      "provenance": []
    },
    "kernelspec": {
      "name": "python3",
      "display_name": "Python 3"
    }
  },
  "cells": [
    {
      "cell_type": "code",
      "metadata": {
        "id": "1718Va2DlEnN",
        "colab_type": "code",
        "colab": {
          "base_uri": "https://localhost:8080/",
          "height": 493
        },
        "outputId": "6703197c-68b3-4cc5-deeb-9445c6c00669"
      },
      "source": [
        "import keras\n",
        "from keras.models import Sequential\n",
        "from keras.layers import Dense\n",
        "\n",
        "import numpy as np\n",
        "data = np.random.random((1000, 10)) #隨機產生1000筆資料，每筆資料1包含十個float數字\n",
        "labels = np.random.randint(2, size=(1000, 1)) #隨機產生1000筆資料，每筆資料上限為2(意思就是0 或 1)\n",
        "print(np.shape(data))\n",
        "print(data[0])\n",
        "print(np.shape(labels))\n",
        "print(labels[0])\n",
        "\n",
        "model = Sequential()\n",
        "model.add(Dense(32, activation='relu', input_dim=10))\n",
        "model.add(Dense(1, activation='sigmoid'))\n",
        "model.compile(optimizer='rmsprop', loss='binary_crossentropy', metrics=['accuracy'])\n",
        "\n",
        "model.fit(data, labels, epochs=10, batch_size=32)\n",
        "\n",
        "score=model.evaluate(data, labels)\n",
        "print(score[1])"
      ],
      "execution_count": 2,
      "outputs": [
        {
          "output_type": "stream",
          "text": [
            "Using TensorFlow backend.\n"
          ],
          "name": "stderr"
        },
        {
          "output_type": "stream",
          "text": [
            "(1000, 10)\n",
            "[0.86355797 0.96814202 0.22011846 0.7553304  0.97389755 0.87352536\n",
            " 0.55371824 0.03700298 0.55922893 0.82533885]\n",
            "(1000, 1)\n",
            "[0]\n",
            "Epoch 1/10\n",
            "1000/1000 [==============================] - 0s 292us/step - loss: 0.6955 - accuracy: 0.5070\n",
            "Epoch 2/10\n",
            "1000/1000 [==============================] - 0s 34us/step - loss: 0.6934 - accuracy: 0.5080\n",
            "Epoch 3/10\n",
            "1000/1000 [==============================] - 0s 36us/step - loss: 0.6921 - accuracy: 0.5220\n",
            "Epoch 4/10\n",
            "1000/1000 [==============================] - 0s 31us/step - loss: 0.6912 - accuracy: 0.5270\n",
            "Epoch 5/10\n",
            "1000/1000 [==============================] - 0s 32us/step - loss: 0.6906 - accuracy: 0.5480\n",
            "Epoch 6/10\n",
            "1000/1000 [==============================] - 0s 32us/step - loss: 0.6896 - accuracy: 0.5530\n",
            "Epoch 7/10\n",
            "1000/1000 [==============================] - 0s 35us/step - loss: 0.6889 - accuracy: 0.5500\n",
            "Epoch 8/10\n",
            "1000/1000 [==============================] - 0s 35us/step - loss: 0.6881 - accuracy: 0.5370\n",
            "Epoch 9/10\n",
            "1000/1000 [==============================] - 0s 35us/step - loss: 0.6877 - accuracy: 0.5560\n",
            "Epoch 10/10\n",
            "1000/1000 [==============================] - 0s 34us/step - loss: 0.6870 - accuracy: 0.5580\n",
            "1000/1000 [==============================] - 0s 39us/step\n",
            "0.5590000152587891\n"
          ],
          "name": "stdout"
        }
      ]
    }
  ]
}